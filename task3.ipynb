{
 "cells": [
  {
   "cell_type": "markdown",
   "metadata": {},
   "source": [
    "## 7. 整数反转"
   ]
  },
  {
   "cell_type": "markdown",
   "metadata": {},
   "source": [
    "给出一个 32 位的有符号整数，你需要将这个整数中每位上的数字进行反转。\n",
    "```\n",
    "示例 1:\n",
    "\n",
    "输入: 123\n",
    "输出: 321\n",
    " 示例 2:\n",
    "\n",
    "输入: -123\n",
    "输出: -321\n",
    "示例 3:\n",
    "\n",
    "输入: 120\n",
    "输出: 21\n",
    "```"
   ]
  },
  {
   "cell_type": "code",
   "execution_count": 2,
   "metadata": {},
   "outputs": [],
   "source": [
    "class Solution:\n",
    "    def reverse(self, x):\n",
    "        \"\"\"\n",
    "        :type x: int\n",
    "        :rtype: int\n",
    "        \"\"\"\n",
    "        if x < 0:\n",
    "            y =-1 *int(str(-x)[::-1])\n",
    "            \n",
    "        else:\n",
    "            y =int(str(x)[::-1])\n",
    "        \n",
    "        if y > 2**31-1 or y < -2**31:\n",
    "            return 0\n",
    "        else:\n",
    "            return y"
   ]
  },
  {
   "cell_type": "code",
   "execution_count": null,
   "metadata": {},
   "outputs": [],
   "source": [
    "8. "
   ]
  },
  {
   "cell_type": "markdown",
   "metadata": {},
   "source": [
    "给两个整数数组 A 和 B ，返回两个数组中公共的、长度最长的子数组的长度。\n",
    "```\n",
    "示例 1:\n",
    "\n",
    "输入:\n",
    "A: [1,2,3,2,1]\n",
    "B: [3,2,1,4,7]\n",
    "输出: 3\n",
    "解释: \n",
    "长度最长的公共子数组是 [3, 2, 1]。\n",
    "说明:\n",
    "\n",
    "1 <= len(A), len(B) <= 1000\n",
    "0 <= A[i], B[i] < 100\n",
    "```"
   ]
  },
  {
   "cell_type": "code",
   "execution_count": 4,
   "metadata": {},
   "outputs": [],
   "source": [
    "class Solution:\n",
    "    def myAtoi(self, str):\n",
    "        \"\"\"\n",
    "        :type str: str\n",
    "        :rtype: int\n",
    "        \"\"\"\n",
    "        # strip()方法用于移除字符串头尾指定的字符（默认为空格或换行符）或字符序列\n",
    "        str =str.strip()\n",
    "        strNum = 0\n",
    "        # 判断去除空格后是否为空字符串\n",
    "        if len(str) == 0:\n",
    "            return strNum\n",
    "\n",
    "        positive = True\n",
    "        if str[0] == '+' or str[0] == '-':\n",
    "            if str[0] == '-':\n",
    "                positive = False\n",
    "            str = str[1:]\n",
    "\n",
    "        for char in str:\n",
    "            if char >= '0' and char <= '9':\n",
    "                strNum = strNum * 10 + ord(char) - ord('0')\n",
    "            if char < '0' or char > '9':\n",
    "                break\n",
    "\n",
    "        if strNum > 2147483647:\n",
    "            if positive == False:\n",
    "                return -2147483648\n",
    "            else:\n",
    "                return 2147483647\n",
    "        if not positive:\n",
    "            strNum = 0 - strNum\n",
    "        return strNum"
   ]
  },
  {
   "cell_type": "markdown",
   "metadata": {},
   "source": [
    "## 9. 回文数"
   ]
  },
  {
   "cell_type": "markdown",
   "metadata": {},
   "source": [
    "判断一个整数是否是回文数。回文数是指正序（从左向右）和倒序（从右向左）读都是一样的整数。\n",
    "```\n",
    "示例 1:\n",
    "\n",
    "输入: 121\n",
    "输出: true\n",
    "示例 2:\n",
    "\n",
    "输入: -121\n",
    "输出: false\n",
    "解释: 从左向右读, 为 -121 。 从右向左读, 为 121- 。因此它不是一个回文数。\n",
    "示例 3:\n",
    "\n",
    "输入: 10\n",
    "输出: false\n",
    "解释: 从右向左读, 为 01 。因此它不是一个回文数。\n",
    "```"
   ]
  },
  {
   "cell_type": "code",
   "execution_count": 5,
   "metadata": {},
   "outputs": [],
   "source": [
    "class Solution(object):\n",
    "    def isPalindrome(self, x):\n",
    "        \"\"\"\n",
    "        :type x: int\n",
    "        :rtype: bool\n",
    "        \"\"\"\n",
    "        \n",
    "        # 定义一个变量存储x的值\n",
    "        prev_x = x\n",
    "        # 定义一个变量存储x倒序后的值\n",
    "        inve_x = 0\n",
    "        # 当prev_x大于0的时候循环，这里筛选负数\n",
    "        while prev_x > 0:\n",
    "            # inve_x*10加上prev_x和10取余的数\n",
    "            inve_x = inve_x * 10 + (prev_x % 10)\n",
    "            # prev_x整除10\n",
    "            prev_x = prev_x // 10\n",
    "        return inve_x == x\n",
    "\n",
    "        return x==y or x==y/10"
   ]
  },
  {
   "cell_type": "code",
   "execution_count": null,
   "metadata": {},
   "outputs": [],
   "source": []
  }
 ],
 "metadata": {
  "kernelspec": {
   "display_name": "Python 3",
   "language": "python",
   "name": "python3"
  },
  "language_info": {
   "codemirror_mode": {
    "name": "ipython",
    "version": 3
   },
   "file_extension": ".py",
   "mimetype": "text/x-python",
   "name": "python",
   "nbconvert_exporter": "python",
   "pygments_lexer": "ipython3",
   "version": "3.6.0"
  }
 },
 "nbformat": 4,
 "nbformat_minor": 2
}
