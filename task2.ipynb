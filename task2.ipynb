{
 "cells": [
  {
   "cell_type": "markdown",
   "metadata": {},
   "source": [
    "## 4. 寻找两个有序数组的中位数"
   ]
  },
  {
   "cell_type": "markdown",
   "metadata": {},
   "source": [
    "给定两个大小为 m 和 n 的有序数组 nums1 和 nums2。\n",
    "\n",
    "请你找出这两个有序数组的中位数，并且要求算法的时间复杂度为 O(log(m + n))。\n",
    "\n",
    "你可以假设 nums1 和 nums2 不会同时为空。\n",
    "\n",
    "```\n",
    "示例 1:\n",
    "\n",
    "nums1 = [1, 3]\n",
    "nums2 = [2]\n",
    "\n",
    "则中位数是 2.0\n",
    "```\n",
    "```\n",
    "示例 2:\n",
    "\n",
    "nums1 = [1, 2]\n",
    "nums2 = [3, 4]\n",
    "\n",
    "则中位数是 (2 + 3)/2 = 2.5\n",
    "```"
   ]
  },
  {
   "cell_type": "code",
   "execution_count": 1,
   "metadata": {},
   "outputs": [],
   "source": [
    "class Solution:\n",
    "    def findMedianSortedArrays(self, nums1, nums2):\n",
    "        \"\"\"\n",
    "        :type nums1: List[int]\n",
    "        :type nums2: List[int]\n",
    "        :rtype: float\n",
    "        \"\"\"\n",
    "        nums = nums1 + nums2\n",
    "        nums.sort()\n",
    "        l = len(nums)\n",
    "        if l % 2 == 0:\n",
    "            return (nums[int(l/2)] + nums[int(l/2-1)])/ 2 \n",
    "        else:\n",
    "            return nums[int((l-1)/2)]"
   ]
  },
  {
   "cell_type": "markdown",
   "metadata": {},
   "source": [
    "## 5. 最长回文子串"
   ]
  },
  {
   "cell_type": "markdown",
   "metadata": {},
   "source": [
    "给定一个字符串 s，找到 s 中最长的回文子串。你可以假设 s 的最大长度为 1000。\n",
    "\n",
    "```\n",
    "示例 1：\n",
    "\n",
    "输入: \"babad\"\n",
    "输出: \"bab\"\n",
    "注意: \"aba\" 也是一个有效答案。\n",
    "```\n",
    "```\n",
    "示例 2：\n",
    "\n",
    "输入: \"cbbd\"\n",
    "输出: \"bb\"\n",
    "```"
   ]
  },
  {
   "cell_type": "markdown",
   "metadata": {},
   "source": [
    "### 法一：循环求解"
   ]
  },
  {
   "cell_type": "markdown",
   "metadata": {},
   "source": [
    "时间复杂度太高"
   ]
  },
  {
   "cell_type": "code",
   "execution_count": 2,
   "metadata": {},
   "outputs": [],
   "source": [
    "class Solution:\n",
    "    def longestPalindrome(self, s):\n",
    "        \"\"\"\n",
    "        :type s: str\n",
    "        :rtype: str\n",
    "        \"\"\"\n",
    "        l = len(s)\n",
    "        max_length = 0\n",
    "        palindromic = ''\n",
    "        if len(s) == 1:\n",
    "            return s\n",
    "        for i in range(l):\n",
    "            for j in range(i + 1, l):\n",
    "                is_palindromic = True\n",
    "                for k in range(i, int((i + j) / 2) + 1):\n",
    "                    if s[k] != s[j - k + i]:\n",
    "                        is_palindromic = False\n",
    "                        break\n",
    "                if is_palindromic and (j - i + 1) > max_length:\n",
    "                    max_length = j - i + 1\n",
    "                    palindromic = s[i:j + 1]\n",
    "        if palindromic == '':\n",
    "            palindromic = s[0]\n",
    "        return palindromic"
   ]
  },
  {
   "cell_type": "markdown",
   "metadata": {},
   "source": [
    "### 法二：Manacher"
   ]
  },
  {
   "cell_type": "markdown",
   "metadata": {},
   "source": [
    "网上看到的，用 Manacher 来做"
   ]
  },
  {
   "cell_type": "code",
   "execution_count": 4,
   "metadata": {},
   "outputs": [],
   "source": [
    "import sys\n",
    "while True:\n",
    "    s = sys.stdin.readline().strip()\n",
    "    t = s[::-1] # t为s的倒序，通过逐个对比t和s的元素，来求得最长回文串\n",
    "    n = len(s)\n",
    "    if n == 0:\n",
    "        break\n",
    "    else:\n",
    "        result_matrix = [[0 for i in range(n+1)] for j in range(n+1)]\n",
    "        # print(result_matrix)\n",
    "        # reslut[i][i]表示子串的回文子串的长度，result[n][n]表示原串的回文子串长度\n",
    "        for i in range(n):\n",
    "            for j in range(n):\n",
    "                if s[i] == t[j]: # 如果相等，则回文串长度等于前一个状态+1\n",
    "                    result_matrix[i+1][j+1] = result_matrix[i][j] + 1\n",
    "                else:\n",
    "                    result_matrix[i+1][j+1] = max(result_matrix[i+1][j], result_matrix[i][j+1])\n",
    "        print(n-result_matrix[n][n])"
   ]
  },
  {
   "cell_type": "markdown",
   "metadata": {},
   "source": [
    "## 6. Z字形变换"
   ]
  },
  {
   "cell_type": "markdown",
   "metadata": {},
   "source": [
    "将一个给定字符串根据给定的行数，以从上往下、从左到右进行 Z 字形排列。\n",
    "\n",
    "比如输入字符串为 \"LEETCODEISHIRING\" 行数为 3 时，排列如下：\n",
    "\n",
    "L   C   I   R\n",
    "E T O E S I I G\n",
    "E   D   H   N\n",
    "之后，你的输出需要从左往右逐行读取，产生出一个新的字符串，比如：\"LCIRETOESIIGEDHN\"。\n",
    "\n",
    "请你实现这个将字符串进行指定行数变换的函数：\n",
    "\n",
    "string convert(string s, int numRows);\n",
    "```\n",
    "示例 1:\n",
    "\n",
    "输入: s = \"LEETCODEISHIRING\", numRows = 3\n",
    "输出: \"LCIRETOESIIGEDHN\"\n",
    "示例 2:\n",
    "\n",
    "输入: s = \"LEETCODEISHIRING\", numRows = 4\n",
    "输出: \"LDREOEIIECIHNTSG\"\n",
    "解释:\n",
    "\n",
    "L     D     R\n",
    "E   O E   I I\n",
    "E C   I H   N\n",
    "T     S     G\n",
    "```"
   ]
  },
  {
   "cell_type": "markdown",
   "metadata": {},
   "source": [
    "分析：\n",
    "这题没想出来，根据官方答案给出的"
   ]
  },
  {
   "cell_type": "code",
   "execution_count": 6,
   "metadata": {},
   "outputs": [],
   "source": [
    "class Solution:\n",
    "    def convert(self, s, numRows):\n",
    "        \"\"\"\n",
    "        :type s: str\n",
    "        :type numRows: int\n",
    "        :rtype: str\n",
    "        \"\"\"\n",
    "        if numRows == 1:\n",
    "            return s\n",
    " \n",
    "        rows = ['']* min(numRows, len(s))\n",
    "        godown = False\n",
    "        currow = 0\n",
    "        for c in s:\n",
    "            rows[currow] += c\n",
    "            if currow == 0 or currow == numRows-1:\n",
    "                godown = not godown\n",
    "            if godown:\n",
    "                currow += 1\n",
    "            else:\n",
    "                currow -= 1\n",
    "        return ''.join(rows)\n"
   ]
  },
  {
   "cell_type": "code",
   "execution_count": null,
   "metadata": {},
   "outputs": [],
   "source": []
  }
 ],
 "metadata": {
  "kernelspec": {
   "display_name": "Python 3",
   "language": "python",
   "name": "python3"
  },
  "language_info": {
   "codemirror_mode": {
    "name": "ipython",
    "version": 3
   },
   "file_extension": ".py",
   "mimetype": "text/x-python",
   "name": "python",
   "nbconvert_exporter": "python",
   "pygments_lexer": "ipython3",
   "version": "3.6.0"
  }
 },
 "nbformat": 4,
 "nbformat_minor": 2
}
