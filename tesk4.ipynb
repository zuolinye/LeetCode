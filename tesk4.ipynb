{
 "cells": [
  {
   "cell_type": "markdown",
   "metadata": {},
   "source": [
    "## 10. 正则表达式匹配"
   ]
  },
  {
   "cell_type": "markdown",
   "metadata": {},
   "source": [
    "给定一个字符串 (s) 和一个字符模式 (p)。实现支持 '.' 和 '*' 的正则表达式匹配。\n",
    "\n",
    "'.' 匹配任意单个字符。\n",
    "'*' 匹配零个或多个前面的元素。\n",
    "匹配应该覆盖整个字符串 (s) ，而不是部分字符串。\n",
    "\n",
    "说明:\n",
    "\n",
    "* s 可能为空，且只包含从 a-z 的小写字母。\n",
    "* p 可能为空，且只包含从 a-z 的小写字母，以及字符 . 和 *。\n",
    "\n",
    "```\n",
    "示例 1:\n",
    "\n",
    "输入:\n",
    "s = \"aa\"\n",
    "p = \"a\"\n",
    "输出: false\n",
    "解释: \"a\" 无法匹配 \"aa\" 整个字符串。\n",
    "示例 2:\n",
    "\n",
    "输入:\n",
    "s = \"aa\"\n",
    "p = \"a*\"\n",
    "输出: true\n",
    "解释: '*' 代表可匹配零个或多个前面的元素, 即可以匹配 'a' 。因此, 重复 'a' 一次, 字符串可变为 \"aa\"。\n",
    "示例 3:\n",
    "\n",
    "输入:\n",
    "s = \"ab\"\n",
    "p = \".*\"\n",
    "输出: true\n",
    "解释: \".*\" 表示可匹配零个或多个('*')任意字符('.')。\n",
    "示例 4:\n",
    "\n",
    "输入:\n",
    "s = \"aab\"\n",
    "p = \"c*a*b\"\n",
    "输出: true\n",
    "解释: 'c' 可以不被重复, 'a' 可以被重复一次。因此可以匹配字符串 \"aab\"。\n",
    "示例 5:\n",
    "\n",
    "输入:\n",
    "s = \"mississippi\"\n",
    "p = \"mis*is*p*.\"\n",
    "输出: false\n",
    "```"
   ]
  },
  {
   "cell_type": "markdown",
   "metadata": {},
   "source": [
    "思路： \n",
    "\n",
    "- 若p为空，若s也为空，返回true，反之返回false\n",
    "\n",
    "- 若p的长度为1，若s长度也为1，且相同或是p为'.'则返回true，反之返回false\n",
    "\n",
    "- 若p的第二个字符不为*，若此时s为空返回false，否则判断首字符是否匹配，且从各自的第二个字符开始调用递归函数匹配\n",
    "\n",
    "- 若p的第二个字符为*，若s不为空且字符匹配，调用递归函数匹配s和去掉前两个字符的p，若匹配返回true，否则s去掉首字母\n",
    "\n",
    "- 返回调用递归函数匹配s和去掉前两个字符的p的结果"
   ]
  },
  {
   "cell_type": "code",
   "execution_count": 2,
   "metadata": {},
   "outputs": [],
   "source": [
    "class Solution(object):\n",
    "    def isMatch(self, s, p):\n",
    "        \"\"\"\n",
    "        :type s: str\n",
    "        :type p: str\n",
    "        :rtype: bool\n",
    "        \"\"\"\n",
    "        if p == \"\":\n",
    "            return s == \"\"\n",
    "        if len(p) == 1:\n",
    "            return len(s) == 1 and (s[0] == p[0] or p[0] == '.')\n",
    "        if p[1] != \"*\":\n",
    "            if s == \"\":\n",
    "                return False\n",
    "            return (s[0] == p[0] or p[0] == '.') and self.isMatch(s[1:], p[1:])\n",
    "        \n",
    "        while s and (s[0] == p[0] or p[0] == '.'):\n",
    "            if self.isMatch(s, p[2:]):\n",
    "                return True\n",
    "            s = s[1:]\n",
    "        return self.isMatch(s, p[2:])\n"
   ]
  },
  {
   "cell_type": "markdown",
   "metadata": {},
   "source": [
    "效率很低，得使用动态规划来做，但没想出来，所以贴出别人的代码"
   ]
  },
  {
   "cell_type": "code",
   "execution_count": 4,
   "metadata": {},
   "outputs": [],
   "source": [
    "\n",
    "class Solution:\n",
    "    def isMatch(self, s, p):\n",
    "        dp=[[False for j in range(len(p)+1)] for i in range(len(s)+1)] #  初始化二维表dp\n",
    "        print(dp)\n",
    "        dp[0][0]=True                                                   #  s 和 p 都为空时\n",
    "        #  若 s 为空时\n",
    "        for j in range(1,len(p)+1):\n",
    "            #dp[0][j]= (p[j-1]==\"*\")and(j>=2)and(dp[0][j-2])            #  等同于下列语句\n",
    "            if p[j-1]=='*':\n",
    "                if j>=2:\n",
    "                    dp[0][j]=dp[0][j-2]\n",
    "        print(dp)\n",
    " \n",
    "        for i in range(1,len(s)+1):\n",
    "            for j in range(1,len(p)+1):\n",
    "                #  j-1才为正常字符串中的索引\n",
    "                #  p当前位置为\"*\"时，(代表空串--dp[i][j-2]、一个或者多个前一个字符--( dp[i-1][j] and (p[j-2]==s[i-1] or p[j-2]=='.'))\n",
    "                if p[j-1]=='*':\n",
    "                    dp[i][j]= dp[i][j-2] or ( dp[i-1][j] and (p[j-2]==s[i-1] or p[j-2]=='.') ) # dp[i][j-1] or\n",
    "                #  p当前位置为\".\"时或者与s相同时，传递dp[i-1][j-1]的真值\n",
    "                else:\n",
    "                    dp[i][j]=(p[j-1]=='.' or p[j-1]==s[i-1]) and dp[i-1][j-1]\n",
    " \n",
    "        return dp[len(s)][len(p)]"
   ]
  },
  {
   "cell_type": "code",
   "execution_count": null,
   "metadata": {},
   "outputs": [],
   "source": []
  }
 ],
 "metadata": {
  "kernelspec": {
   "display_name": "Python 3",
   "language": "python",
   "name": "python3"
  },
  "language_info": {
   "codemirror_mode": {
    "name": "ipython",
    "version": 3
   },
   "file_extension": ".py",
   "mimetype": "text/x-python",
   "name": "python",
   "nbconvert_exporter": "python",
   "pygments_lexer": "ipython3",
   "version": "3.6.0"
  }
 },
 "nbformat": 4,
 "nbformat_minor": 2
}
